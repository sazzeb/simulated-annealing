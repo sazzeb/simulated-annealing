{
  "nbformat": 4,
  "nbformat_minor": 0,
  "metadata": {
    "colab": {
      "provenance": [],
      "authorship_tag": "ABX9TyOn9cdDQegBKaZmI9IJci+r",
      "include_colab_link": true
    },
    "kernelspec": {
      "name": "python3",
      "display_name": "Python 3"
    },
    "language_info": {
      "name": "python"
    }
  },
  "cells": [
    {
      "cell_type": "markdown",
      "metadata": {
        "id": "view-in-github",
        "colab_type": "text"
      },
      "source": [
        "<a href=\"https://colab.research.google.com/github/sazzeb/simulated-annealing/blob/main/Project_5210_part2.ipynb\" target=\"_parent\"><img src=\"https://colab.research.google.com/assets/colab-badge.svg\" alt=\"Open In Colab\"/></a>"
      ]
    },
    {
      "cell_type": "code",
      "execution_count": 1,
      "metadata": {
        "id": "ykv1ZKiRxSd4"
      },
      "outputs": [],
      "source": [
        "from collections import defaultdict, deque\n",
        "import random, math\n",
        "random.seed(42)\n"
      ]
    },
    {
      "cell_type": "code",
      "source": [
        "def build_graph(capacity_dict):\n",
        "    \"\"\"Build internal graph dict from a capacity dict mapping (u,v)->cap.\"\"\"\n",
        "    g = {'capacity': dict(capacity_dict), 'edges': {}}\n",
        "    for (u, v), cap in g['capacity'].items():\n",
        "        if cap < 0:\n",
        "            raise ValueError(f\"Negative capacity on edge {(u,v)}\")\n",
        "        g['edges'].setdefault(u, []).append(v)\n",
        "    return g\n"
      ],
      "metadata": {
        "id": "BT9QolIBxsrm"
      },
      "execution_count": 2,
      "outputs": []
    },
    {
      "cell_type": "code",
      "source": [
        "\n",
        "def heuristic_total_inflow_to_sink(flow, sink):\n",
        "    \"\"\"(A.a) Objective: total inflow into sink.\"\"\"\n",
        "    return sum(f for (u, v), f in flow.items() if v == sink)"
      ],
      "metadata": {
        "id": "Gk4v6QYsxvXc"
      },
      "execution_count": 3,
      "outputs": []
    },
    {
      "cell_type": "code",
      "source": [
        "\n",
        "def make_residual(graph, flow):\n",
        "    \"\"\"\n",
        "    Build residual adjacency and attributes for edges.\n",
        "    For base edge (u,v) with capacity C and flow F:\n",
        "      - if F < C: forward residual u->v with residual = C-F\n",
        "      - if F > 0: backward residual v->u with residual = F\n",
        "    \"\"\"\n",
        "    res_adj = defaultdict(list)\n",
        "    res_attr = {}  # (u,v) -> dict(residual, forward, base)\n",
        "    cap = graph['capacity']\n",
        "    for (u, v), C in cap.items():\n",
        "        F = flow.get((u, v), 0)\n",
        "        if F < C:\n",
        "            res_adj[u].append(v)\n",
        "            res_attr[(u, v)] = {'residual': C - F, 'forward': True,  'base': (u, v)}\n",
        "        if F > 0:\n",
        "            res_adj[v].append(u)\n",
        "            res_attr[(v, u)] = {'residual': F,     'forward': False, 'base': (u, v)}\n",
        "    return res_adj, res_attr\n"
      ],
      "metadata": {
        "id": "wUJ2iHjvxw_F"
      },
      "execution_count": 4,
      "outputs": []
    },
    {
      "cell_type": "code",
      "source": [
        "def make_predecessors(res_adj):\n",
        "    \"\"\"Compute predecessor lists (for sink→source BFS over residual).\"\"\"\n",
        "    preds = defaultdict(list)\n",
        "    for u, nbrs in res_adj.items():\n",
        "        for v in nbrs:\n",
        "            preds[v].append(u)\n",
        "    return preds"
      ],
      "metadata": {
        "id": "_HeAi-wVx1nT"
      },
      "execution_count": 5,
      "outputs": []
    },
    {
      "cell_type": "code",
      "source": [
        "def bfs_sink_to_source(res_adj, res_attr, sink, source):\n",
        "    \"\"\"\n",
        "    (A.b) Sink→Source BFS over residual by walking predecessors.\n",
        "    Returns:\n",
        "      path_sink_to_source: [sink,...,source]\n",
        "      app_edges:           residual edges in source→sink order\n",
        "      m:                   bottleneck residual along app_edges\n",
        "    \"\"\"\n",
        "    preds = make_predecessors(res_adj)\n",
        "    parent = {sink: None}\n",
        "    q = deque([sink])\n",
        "    while q:\n",
        "        u = q.popleft()\n",
        "        for p in preds.get(u, []):  # predecessors of u\n",
        "            if p in parent:\n",
        "                continue\n",
        "            parent[p] = u\n",
        "            if p == source:\n",
        "                # reconstruct sink->...->source\n",
        "                rev = [source]\n",
        "                while rev[-1] is not None:\n",
        "                    nxt = parent[rev[-1]]\n",
        "                    rev.append(nxt)\n",
        "                    if nxt is None:\n",
        "                        break\n",
        "                path_s2r = list(reversed(rev[:-1]))  # [sink,...,source]\n",
        "                # application edges should be in source->sink order\n",
        "                path_r2s = list(reversed(path_s2r))\n",
        "                app_edges = list(zip(path_r2s[:-1], path_r2s[1:]))\n",
        "                if not app_edges:\n",
        "                    return None, None, 0\n",
        "                m = min(res_attr[(a, b)]['residual'] for (a, b) in app_edges)\n",
        "                return path_s2r, app_edges, m\n",
        "            q.append(p)\n",
        "    return None, None, 0"
      ],
      "metadata": {
        "id": "v05shm00x4hR"
      },
      "execution_count": 6,
      "outputs": []
    },
    {
      "cell_type": "code",
      "source": [
        "def successor_SA(graph, flow, source, sink):\n",
        "    \"\"\"\n",
        "    (A.b) Successor via residual augmentation with random increment f∈[1..m].\n",
        "    Returns (new_flow, path_sink_to_source, f) or (None, None, 0) if no path.\n",
        "    \"\"\"\n",
        "    res_adj, res_attr = make_residual(graph, flow)\n",
        "\n",
        "    # quick residual reachability check from source to sink\n",
        "    dq = deque([source]); seen = {source}; reachable_sink = False\n",
        "    while dq:\n",
        "        u = dq.popleft()\n",
        "        if u == sink:\n",
        "            reachable_sink = True\n",
        "            break\n",
        "        for v in res_adj.get(u, []):\n",
        "            if v not in seen:\n",
        "                seen.add(v); dq.append(v)\n",
        "    if not reachable_sink:\n",
        "        return None, None, 0\n",
        "\n",
        "    path_s2r, app_edges, m = bfs_sink_to_source(res_adj, res_attr, sink, source)\n",
        "    if not app_edges:\n",
        "        return None, None, 0\n",
        "\n",
        "    f = random.randint(1, m)  # random increment per spec\n",
        "    new_flow = dict(flow)\n",
        "    for (u, v) in app_edges:\n",
        "        attr = res_attr[(u, v)]\n",
        "        base_u, base_v = attr['base']\n",
        "        if attr['forward']:\n",
        "            new_flow[(base_u, base_v)] = new_flow.get((base_u, base_v), 0) + f\n",
        "        else:\n",
        "            new_flow[(base_u, base_v)] = new_flow.get((base_u, base_v), 0) - f\n",
        "        # clamp to [0, capacity]\n",
        "        C = graph['capacity'][(base_u, base_v)]\n",
        "        new_flow[(base_u, base_v)] = max(0, min(C, new_flow[(base_u, base_v)]))\n",
        "    return new_flow, path_s2r, f"
      ],
      "metadata": {
        "id": "0neyKSHdyDiU"
      },
      "execution_count": 8,
      "outputs": []
    },
    {
      "cell_type": "code",
      "source": [
        "def simulated_annealing(graph, source, sink, T_init=100.0, alpha=0.99, max_iter=2000, no_path_break=True):\n",
        "    \"\"\"\n",
        "    (A.c) SA driver with standard acceptance & multiplicative cooling.\n",
        "    Returns (best_network, best_value).\n",
        "    \"\"\"\n",
        "    flow = defaultdict(int)\n",
        "    best_flow = dict(flow)\n",
        "    def h(F): return heuristic_total_inflow_to_sink(F, sink)\n",
        "\n",
        "    current = h(flow); best = current\n",
        "    T = float(T_init)\n",
        "\n",
        "    for _ in range(max_iter):\n",
        "        new_flow, path_s2r, inc = successor_SA(graph, flow, source, sink)\n",
        "        if new_flow is None:\n",
        "            if no_path_break:\n",
        "                break\n",
        "            else:\n",
        "                T *= alpha\n",
        "                if T <= 1e-12:\n",
        "                    break\n",
        "                continue\n",
        "\n",
        "        nxt = h(new_flow)\n",
        "        delta = nxt - current\n",
        "        if delta > 0 or random.random() < math.exp(delta / max(T, 1e-12)):\n",
        "            flow = new_flow\n",
        "            current = nxt\n",
        "            if current > best:\n",
        "                best = current\n",
        "                best_flow = dict(flow)\n",
        "\n",
        "        T *= alpha\n",
        "        if T <= 1e-12:\n",
        "            break\n",
        "\n",
        "    return {'capacity': graph['capacity'], 'flow': dict(best_flow)}, best"
      ],
      "metadata": {
        "id": "yOGdycBfyP-i"
      },
      "execution_count": 9,
      "outputs": []
    },
    {
      "cell_type": "code",
      "source": [
        "\n",
        "def verify_part_A_on_small_example():\n",
        "    cap = {(0,1):4, (0,2):5, (1,3):3, (2,3):6}\n",
        "    g = build_graph(cap)\n",
        "    net, tf = simulated_annealing(g, 0, 3, T_init=100, alpha=0.99, max_iter=1000)\n",
        "    print(f\"[Part A demo] Total inflow to sink (3) = {tf}\")\n",
        "verify_part_A_on_small_example()\n"
      ],
      "metadata": {
        "colab": {
          "base_uri": "https://localhost:8080/"
        },
        "id": "QPgxIGHuyRgG",
        "outputId": "e503071b-2fb0-4a85-dc1d-3027ff81921c"
      },
      "execution_count": 10,
      "outputs": [
        {
          "output_type": "stream",
          "name": "stdout",
          "text": [
            "[Part A demo] Total inflow to sink (3) = 8\n"
          ]
        }
      ]
    },
    {
      "cell_type": "code",
      "source": [
        "NAME = {'S':0,'U':1,'V':2,'W':3,'Z':4,'E':29}\n",
        "S,U,V,W,Z,E = NAME['S'], NAME['U'], NAME['V'], NAME['W'], NAME['Z'], NAME['E']"
      ],
      "metadata": {
        "id": "SJkdQaU1ybiK"
      },
      "execution_count": 11,
      "outputs": []
    },
    {
      "cell_type": "code",
      "source": [
        "def r1_samples():\n",
        "    return [\n",
        "        (\"R1-01\", {(S,U):10,(S,V):8,(U,W):5,(U,Z):4,(V,W):6,(V,Z):3,(W,E):9,(Z,E):8}),\n",
        "        (\"R1-02\", {(S,U):7,(S,V):7,(U,W):6,(V,W):5,(U,Z):4,(V,Z):4,(W,Z):2,(W,E):6,(Z,E):7}),\n",
        "        (\"R1-03\", {(S,U):9,(S,V):5,(U,V):3,(V,W):7,(U,Z):4,(W,E):8,(Z,E):6}),\n",
        "        (\"R1-04\", {(S,U):12,(S,V):4,(U,W):5,(V,W):4,(U,Z):6,(V,Z):2,(W,Z):3,(W,E):6,(Z,E):10}),\n",
        "        (\"R1-05\", {(S,U):6,(S,V):11,(U,V):2,(U,W):3,(V,W):8,(V,Z):5,(W,E):9,(Z,E):4}),\n",
        "        (\"R1-06\", {(S,U):10,(U,W):10,(S,V):10,(V,Z):10,(W,Z):5,(W,E):4,(Z,E):12}),\n",
        "        (\"R1-07\", {(S,U):5,(S,V):9,(U,W):5,(V,W):5,(U,Z):1,(V,Z):2,(W,E):7,(Z,E):3}),\n",
        "        (\"R1-08\", {(S,U):8,(S,V):8,(U,V):4,(V,U):3,(U,W):6,(V,Z):6,(W,Z):2,(W,E):6,(Z,E):6}),\n",
        "        (\"R1-09\", {(S,U):15,(S,V):2,(U,W):5,(U,Z):10,(V,W):2,(W,E):7,(Z,E):10}),\n",
        "        (\"R1-10\", {(S,U):4,(S,V):4,(U,W):4,(V,W):4,(U,Z):4,(V,Z):4,(W,E):4,(Z,E):4}),\n",
        "        (\"R1-11\", {(S,U):9,(S,V):9,(U,W):3,(V,W):7,(U,Z):7,(V,Z):3,(W,Z):2,(W,E):8,(Z,E):8}),\n",
        "        (\"R1-12\", {(S,U):6,(S,V):6,(U,Z):6,(V,W):6,(W,Z):3,(W,E):7,(Z,E):5}),\n",
        "    ]"
      ],
      "metadata": {
        "id": "HONOWQlfyfLe"
      },
      "execution_count": 13,
      "outputs": []
    },
    {
      "cell_type": "code",
      "source": [
        "def run_R1(T_init=100, alpha=0.995, max_iter=2000):\n",
        "    results = []\n",
        "    for label, cap in r1_samples():\n",
        "        g = build_graph(cap)\n",
        "        net, tf = simulated_annealing(g, S, E, T_init=T_init, alpha=alpha, max_iter=max_iter)\n",
        "        print(f\"{label}: SA total inflow to E = {tf}\")\n",
        "        results.append((label, tf, net))\n",
        "    return results\n",
        "\n",
        "_ = run_R1()"
      ],
      "metadata": {
        "colab": {
          "base_uri": "https://localhost:8080/"
        },
        "id": "Mz-2W1Gyy7zB",
        "outputId": "451dce71-ee22-4592-fc41-197c876ee2ef"
      },
      "execution_count": 14,
      "outputs": [
        {
          "output_type": "stream",
          "name": "stdout",
          "text": [
            "R1-01: SA total inflow to E = 16\n",
            "R1-02: SA total inflow to E = 13\n",
            "R1-03: SA total inflow to E = 11\n",
            "R1-04: SA total inflow to E = 15\n",
            "R1-05: SA total inflow to E = 13\n",
            "R1-06: SA total inflow to E = 16\n",
            "R1-07: SA total inflow to E = 10\n",
            "R1-08: SA total inflow to E = 12\n",
            "R1-09: SA total inflow to E = 17\n",
            "R1-10: SA total inflow to E = 8\n",
            "R1-11: SA total inflow to E = 16\n",
            "R1-12: SA total inflow to E = 11\n"
          ]
        }
      ]
    },
    {
      "cell_type": "code",
      "source": [
        "def random_digraph_capacities(n=30, p=0.1, cap_lo=1, cap_hi=10, seed=None):\n",
        "    if seed is not None:\n",
        "        random.seed(seed)\n",
        "    cap = {}\n",
        "    for u in range(n):\n",
        "        for v in range(n):\n",
        "            if u == v:\n",
        "                continue\n",
        "            if random.random() < p:\n",
        "                cap[(u, v)] = random.randint(cap_lo, cap_hi)\n",
        "    return cap\n"
      ],
      "metadata": {
        "id": "yC5Y4l4NzC1X"
      },
      "execution_count": 15,
      "outputs": []
    },
    {
      "cell_type": "code",
      "source": [
        "\n",
        "def has_path(capacity, source, sink):\n",
        "    adj = defaultdict(list)\n",
        "    for (u, v), C in capacity.items():\n",
        "        if C > 0:\n",
        "            adj[u].append(v)\n",
        "    dq = deque([source]); seen = {source}\n",
        "    while dq:\n",
        "        u = dq.popleft()\n",
        "        if u == sink:\n",
        "            return True\n",
        "        for v in adj[u]:\n",
        "            if v not in seen:\n",
        "                seen.add(v); dq.append(v)\n",
        "    return False"
      ],
      "metadata": {
        "id": "fu_KCJ_5zGSy"
      },
      "execution_count": 16,
      "outputs": []
    },
    {
      "cell_type": "code",
      "source": [
        "def edmonds_karp_max_flow_value(capacity, source, sink):\n",
        "    \"\"\"\n",
        "    Classic EK on our capacity dict without external deps.\n",
        "    \"\"\"\n",
        "    res = defaultdict(int)\n",
        "    adj = defaultdict(list)\n",
        "    for (u, v), C in capacity.items():\n",
        "        res[(u, v)] += C\n",
        "        adj[u].append(v)\n",
        "        adj[v].append(u)  # ensure residual back-edges accessible\n",
        "\n",
        "    def bfs_residual_path():\n",
        "        parent = {source: None}\n",
        "        dq = deque([source])\n",
        "        while dq:\n",
        "            u = dq.popleft()\n",
        "            for v in adj[u]:\n",
        "                if v not in parent and res[(u, v)] > 0:\n",
        "                    parent[v] = u\n",
        "                    if v == sink:\n",
        "                        # reconstruct & bottleneck\n",
        "                        path = [sink]\n",
        "                        while parent[path[-1]] is not None:\n",
        "                            path.append(parent[path[-1]])\n",
        "                        path.reverse()\n",
        "                        bott = min(res[(path[i], path[i+1])] for i in range(len(path)-1))\n",
        "                        return path, bott\n",
        "                    dq.append(v)\n",
        "        return None, 0\n",
        "\n",
        "    maxflow = 0\n",
        "    while True:\n",
        "        path, bott = bfs_residual_path()\n",
        "        if not path:\n",
        "            break\n",
        "        for i in range(len(path)-1):\n",
        "            u, v = path[i], path[i+1]\n",
        "            res[(u, v)] -= bott\n",
        "            res[(v, u)] += bott\n",
        "        maxflow += bott\n",
        "    return maxflow\n"
      ],
      "metadata": {
        "id": "Xj3ehUrfzH61"
      },
      "execution_count": 17,
      "outputs": []
    },
    {
      "cell_type": "code",
      "source": [
        "def run_R2(n=30, p=0.1, seed=7):\n",
        "    source, sink = 0, 29\n",
        "    cap = random_digraph_capacities(n=n, p=p, seed=seed)\n",
        "    g = build_graph(cap)\n",
        "\n",
        "    # SA\n",
        "    if has_path(cap, source, sink):\n",
        "        _, tf_sa = simulated_annealing(g, source, sink, T_init=200, alpha=0.995, max_iter=3000)\n",
        "    else:\n",
        "        tf_sa = 0\n",
        "\n",
        "    # EK\n",
        "    tf_ek = edmonds_karp_max_flow_value(cap, source, sink)\n",
        "\n",
        "    print(f\"R2 — SA tf={tf_sa}, Edmonds–Karp tf_net={tf_ek}\")\n",
        "    return tf_sa, tf_ek\n",
        "\n",
        "_ = run_R2(n=30, p=0.10, seed=7)"
      ],
      "metadata": {
        "colab": {
          "base_uri": "https://localhost:8080/"
        },
        "id": "7UsdQib7zSqJ",
        "outputId": "082b4fed-a218-4af3-d6a6-15ea44323daf"
      },
      "execution_count": 18,
      "outputs": [
        {
          "output_type": "stream",
          "name": "stdout",
          "text": [
            "R2 — SA tf=3, Edmonds–Karp tf_net=3\n"
          ]
        }
      ]
    },
    {
      "cell_type": "code",
      "source": [
        "def run_R3(num_graphs=30, n=30, p=0.10, seed=42):\n",
        "    source, sink = 0, 29\n",
        "    random.seed(seed)\n",
        "\n",
        "    def sa_avg(T_init):\n",
        "        vals = []\n",
        "        for i in range(num_graphs):\n",
        "            cap = random_digraph_capacities(n=n, p=p, seed=seed + i)\n",
        "            g = build_graph(cap)\n",
        "            if has_path(cap, source, sink):\n",
        "                _, tf = simulated_annealing(g, source, sink, T_init=T_init, alpha=0.995, max_iter=2500)\n",
        "            else:\n",
        "                tf = 0\n",
        "            vals.append(tf)\n",
        "        return sum(vals)/len(vals) if vals else 0.0\n",
        "\n",
        "    avg100  = sa_avg(100)\n",
        "    avg1000 = sa_avg(1000)\n",
        "    print(f\"R3 — tf_net_avg(100)  = {avg100:.3f}\")\n",
        "    print(f\"R3 — tf_net_avg(1000) = {avg1000:.3f}\")\n",
        "    if abs(avg1000 - avg100) > 0.05*max(1e-6, avg100):\n",
        "        print(\"Interpretation: Higher T explores more → greater chance to escape local minima.\")\n",
        "    else:\n",
        "        print(\"Interpretation: Similar averages — landscape/cooling likely adequate at T=100.\")\n",
        "    return avg100, avg1000\n",
        "\n",
        "_ = run_R3(num_graphs=30, n=30, p=0.10, seed=42)\n"
      ],
      "metadata": {
        "colab": {
          "base_uri": "https://localhost:8080/"
        },
        "id": "V7qjk8UWzar5",
        "outputId": "06f0e4f6-9bc9-4652-866b-0d2be92cdd18"
      },
      "execution_count": 19,
      "outputs": [
        {
          "output_type": "stream",
          "name": "stdout",
          "text": [
            "R3 — tf_net_avg(100)  = 9.733\n",
            "R3 — tf_net_avg(1000) = 9.733\n",
            "Interpretation: Similar averages — landscape/cooling likely adequate at T=100.\n"
          ]
        }
      ]
    }
  ]
}